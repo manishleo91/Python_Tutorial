{
  "nbformat": 4,
  "nbformat_minor": 0,
  "metadata": {
    "colab": {
      "name": "list.ipynb",
      "provenance": [],
      "authorship_tag": "ABX9TyPJh2dHtpjHyRoLF/RiRSUn",
      "include_colab_link": true
    },
    "kernelspec": {
      "name": "python3",
      "display_name": "Python 3"
    }
  },
  "cells": [
    {
      "cell_type": "markdown",
      "metadata": {
        "id": "view-in-github",
        "colab_type": "text"
      },
      "source": [
        "<a href=\"https://colab.research.google.com/gist/manishleo91/1ce9dc59eda9f900d5f5c63030e403c0/list.ipynb\" target=\"_parent\"><img src=\"https://colab.research.google.com/assets/colab-badge.svg\" alt=\"Open In Colab\"/></a>"
      ]
    },
    {
      "cell_type": "code",
      "metadata": {
        "id": "DmSIzmF2xnPT",
        "colab_type": "code",
        "colab": {
          "base_uri": "https://localhost:8080/",
          "height": 221
        },
        "outputId": "bcade944-5678-4f64-d7a6-d9ceddbb301c"
      },
      "source": [
        "list = []\n",
        "print(list)\n",
        "\n",
        "list.append(1)\n",
        "list.append(2)\n",
        "\n",
        "print (list)\n",
        "\n",
        "list.insert(3,3)\n",
        "list.insert(4,'fourth')\n",
        "list.insert(2,'two')\n",
        "print(list)\n",
        "\n",
        "list.extend([[5,'six','seven']])\n",
        "print(list)\n",
        "\n",
        "print(list[-3])\n",
        "\n",
        "print(\"the size of list is: \")\n",
        "print( len(list))\n",
        "\n",
        "print(list[5][2])\n",
        "\n",
        "list.remove([5,'six','seven'])\n",
        "print(list)\n",
        "\n",
        "for i in range(1,3):\n",
        "  list.remove(i)\n",
        "print(list)\n",
        "\n",
        "list.pop()\n",
        "print(list)\n",
        "\n",
        "list.pop(0)\n",
        "print(list)"
      ],
      "execution_count": 1,
      "outputs": [
        {
          "output_type": "stream",
          "text": [
            "[]\n",
            "[1, 2]\n",
            "[1, 2, 'two', 3, 'fourth']\n",
            "[1, 2, 'two', 3, 'fourth', [5, 'six', 'seven']]\n",
            "3\n",
            "the size of list is: \n",
            "6\n",
            "seven\n",
            "[1, 2, 'two', 3, 'fourth']\n",
            "['two', 3, 'fourth']\n",
            "['two', 3]\n",
            "[3]\n"
          ],
          "name": "stdout"
        }
      ]
    }
  ]
}
